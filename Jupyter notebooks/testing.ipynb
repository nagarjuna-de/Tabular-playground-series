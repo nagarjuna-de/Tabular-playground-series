{
 "cells": [
  {
   "cell_type": "code",
   "execution_count": 18,
   "metadata": {},
   "outputs": [],
   "source": [
    "import pandas as pd\n",
    "import numpy as np\n",
    "import matplotlib.pyplot as plt\n",
    "import seaborn as sns\n",
    "import datetime\n",
    "from pandas.plotting import register_matplotlib_converters #Register pandas formatters and converters with matplotlib.\n",
    "from pylab import rcParams # for customizing matplotlib graphs.\n",
    "sns.set_style(\"whitegrid\") # This one is very important to keep overall plot background as white."
   ]
  },
  {
   "cell_type": "code",
   "execution_count": 19,
   "metadata": {},
   "outputs": [
    {
     "data": {
      "text/html": [
       "<div>\n",
       "<style scoped>\n",
       "    .dataframe tbody tr th:only-of-type {\n",
       "        vertical-align: middle;\n",
       "    }\n",
       "\n",
       "    .dataframe tbody tr th {\n",
       "        vertical-align: top;\n",
       "    }\n",
       "\n",
       "    .dataframe thead th {\n",
       "        text-align: right;\n",
       "    }\n",
       "</style>\n",
       "<table border=\"1\" class=\"dataframe\">\n",
       "  <thead>\n",
       "    <tr style=\"text-align: right;\">\n",
       "      <th></th>\n",
       "      <th>row_id</th>\n",
       "      <th>time</th>\n",
       "      <th>x</th>\n",
       "      <th>y</th>\n",
       "      <th>direction</th>\n",
       "      <th>congestion</th>\n",
       "    </tr>\n",
       "  </thead>\n",
       "  <tbody>\n",
       "    <tr>\n",
       "      <th>0</th>\n",
       "      <td>0</td>\n",
       "      <td>1991-04-01 00:00:00</td>\n",
       "      <td>0</td>\n",
       "      <td>0</td>\n",
       "      <td>EB</td>\n",
       "      <td>70</td>\n",
       "    </tr>\n",
       "    <tr>\n",
       "      <th>1</th>\n",
       "      <td>1</td>\n",
       "      <td>1991-04-01 00:00:00</td>\n",
       "      <td>0</td>\n",
       "      <td>0</td>\n",
       "      <td>NB</td>\n",
       "      <td>49</td>\n",
       "    </tr>\n",
       "    <tr>\n",
       "      <th>2</th>\n",
       "      <td>2</td>\n",
       "      <td>1991-04-01 00:00:00</td>\n",
       "      <td>0</td>\n",
       "      <td>0</td>\n",
       "      <td>SB</td>\n",
       "      <td>24</td>\n",
       "    </tr>\n",
       "    <tr>\n",
       "      <th>3</th>\n",
       "      <td>3</td>\n",
       "      <td>1991-04-01 00:00:00</td>\n",
       "      <td>0</td>\n",
       "      <td>1</td>\n",
       "      <td>EB</td>\n",
       "      <td>18</td>\n",
       "    </tr>\n",
       "    <tr>\n",
       "      <th>4</th>\n",
       "      <td>4</td>\n",
       "      <td>1991-04-01 00:00:00</td>\n",
       "      <td>0</td>\n",
       "      <td>1</td>\n",
       "      <td>NB</td>\n",
       "      <td>60</td>\n",
       "    </tr>\n",
       "  </tbody>\n",
       "</table>\n",
       "</div>"
      ],
      "text/plain": [
       "   row_id                 time  x  y direction  congestion\n",
       "0       0  1991-04-01 00:00:00  0  0        EB          70\n",
       "1       1  1991-04-01 00:00:00  0  0        NB          49\n",
       "2       2  1991-04-01 00:00:00  0  0        SB          24\n",
       "3       3  1991-04-01 00:00:00  0  1        EB          18\n",
       "4       4  1991-04-01 00:00:00  0  1        NB          60"
      ]
     },
     "execution_count": 19,
     "metadata": {},
     "output_type": "execute_result"
    }
   ],
   "source": [
    "data = pd.read_csv('train.csv')\n",
    "data.head()"
   ]
  },
  {
   "cell_type": "code",
   "execution_count": 20,
   "metadata": {},
   "outputs": [],
   "source": [
    "data.drop('row_id', axis=1, inplace=True)"
   ]
  },
  {
   "cell_type": "code",
   "execution_count": 21,
   "metadata": {},
   "outputs": [
    {
     "data": {
      "text/html": [
       "<div>\n",
       "<style scoped>\n",
       "    .dataframe tbody tr th:only-of-type {\n",
       "        vertical-align: middle;\n",
       "    }\n",
       "\n",
       "    .dataframe tbody tr th {\n",
       "        vertical-align: top;\n",
       "    }\n",
       "\n",
       "    .dataframe thead th {\n",
       "        text-align: right;\n",
       "    }\n",
       "</style>\n",
       "<table border=\"1\" class=\"dataframe\">\n",
       "  <thead>\n",
       "    <tr style=\"text-align: right;\">\n",
       "      <th></th>\n",
       "      <th>time</th>\n",
       "      <th>x</th>\n",
       "      <th>y</th>\n",
       "      <th>direction</th>\n",
       "      <th>congestion</th>\n",
       "      <th>year</th>\n",
       "      <th>month</th>\n",
       "      <th>date</th>\n",
       "      <th>hour</th>\n",
       "      <th>c_date</th>\n",
       "    </tr>\n",
       "  </thead>\n",
       "  <tbody>\n",
       "    <tr>\n",
       "      <th>0</th>\n",
       "      <td>1991-04-01 00:00:00</td>\n",
       "      <td>0</td>\n",
       "      <td>0</td>\n",
       "      <td>EB</td>\n",
       "      <td>70</td>\n",
       "      <td>1991</td>\n",
       "      <td>4</td>\n",
       "      <td>1</td>\n",
       "      <td>00</td>\n",
       "      <td>1991-04-01</td>\n",
       "    </tr>\n",
       "    <tr>\n",
       "      <th>1</th>\n",
       "      <td>1991-04-01 00:00:00</td>\n",
       "      <td>0</td>\n",
       "      <td>0</td>\n",
       "      <td>NB</td>\n",
       "      <td>49</td>\n",
       "      <td>1991</td>\n",
       "      <td>4</td>\n",
       "      <td>1</td>\n",
       "      <td>00</td>\n",
       "      <td>1991-04-01</td>\n",
       "    </tr>\n",
       "    <tr>\n",
       "      <th>2</th>\n",
       "      <td>1991-04-01 00:00:00</td>\n",
       "      <td>0</td>\n",
       "      <td>0</td>\n",
       "      <td>SB</td>\n",
       "      <td>24</td>\n",
       "      <td>1991</td>\n",
       "      <td>4</td>\n",
       "      <td>1</td>\n",
       "      <td>00</td>\n",
       "      <td>1991-04-01</td>\n",
       "    </tr>\n",
       "    <tr>\n",
       "      <th>3</th>\n",
       "      <td>1991-04-01 00:00:00</td>\n",
       "      <td>0</td>\n",
       "      <td>1</td>\n",
       "      <td>EB</td>\n",
       "      <td>18</td>\n",
       "      <td>1991</td>\n",
       "      <td>4</td>\n",
       "      <td>1</td>\n",
       "      <td>00</td>\n",
       "      <td>1991-04-01</td>\n",
       "    </tr>\n",
       "    <tr>\n",
       "      <th>4</th>\n",
       "      <td>1991-04-01 00:00:00</td>\n",
       "      <td>0</td>\n",
       "      <td>1</td>\n",
       "      <td>NB</td>\n",
       "      <td>60</td>\n",
       "      <td>1991</td>\n",
       "      <td>4</td>\n",
       "      <td>1</td>\n",
       "      <td>00</td>\n",
       "      <td>1991-04-01</td>\n",
       "    </tr>\n",
       "  </tbody>\n",
       "</table>\n",
       "</div>"
      ],
      "text/plain": [
       "                  time  x  y direction  congestion  year  month  date hour  \\\n",
       "0  1991-04-01 00:00:00  0  0        EB          70  1991      4     1   00   \n",
       "1  1991-04-01 00:00:00  0  0        NB          49  1991      4     1   00   \n",
       "2  1991-04-01 00:00:00  0  0        SB          24  1991      4     1   00   \n",
       "3  1991-04-01 00:00:00  0  1        EB          18  1991      4     1   00   \n",
       "4  1991-04-01 00:00:00  0  1        NB          60  1991      4     1   00   \n",
       "\n",
       "       c_date  \n",
       "0  1991-04-01  \n",
       "1  1991-04-01  \n",
       "2  1991-04-01  \n",
       "3  1991-04-01  \n",
       "4  1991-04-01  "
      ]
     },
     "execution_count": 21,
     "metadata": {},
     "output_type": "execute_result"
    }
   ],
   "source": [
    "data['year'] = data['time'].apply(lambda row: row[:4])\n",
    "data['month'] = data['time'].apply(lambda row: row.split('-')[1][:2] )\n",
    "data['date'] = data['time'].apply(lambda row: row.split('-')[2][:2])\n",
    "data['hour'] = data['time'].apply(lambda row: row.split(':')[0][-2:] )\n",
    "data['c_date'] = data['time'].apply(lambda row: row.split(' ')[0])\n",
    "data = data.astype({'year':'int64','month':'int64', 'date':'int64'})\n",
    "\n",
    "data.head()"
   ]
  },
  {
   "cell_type": "code",
   "execution_count": 22,
   "metadata": {},
   "outputs": [
    {
     "data": {
      "text/plain": [
       "time          object\n",
       "x             object\n",
       "y             object\n",
       "direction     object\n",
       "congestion     int64\n",
       "year           int64\n",
       "month          int64\n",
       "date           int64\n",
       "hour           int64\n",
       "c_date        object\n",
       "dtype: object"
      ]
     },
     "execution_count": 22,
     "metadata": {},
     "output_type": "execute_result"
    }
   ],
   "source": [
    "data = data.astype({'x':'str','y':'str', 'direction':'str', 'hour':'int64' })\n",
    "data.dtypes"
   ]
  },
  {
   "cell_type": "code",
   "execution_count": 23,
   "metadata": {},
   "outputs": [
    {
     "data": {
      "text/html": [
       "<div>\n",
       "<style scoped>\n",
       "    .dataframe tbody tr th:only-of-type {\n",
       "        vertical-align: middle;\n",
       "    }\n",
       "\n",
       "    .dataframe tbody tr th {\n",
       "        vertical-align: top;\n",
       "    }\n",
       "\n",
       "    .dataframe thead th {\n",
       "        text-align: right;\n",
       "    }\n",
       "</style>\n",
       "<table border=\"1\" class=\"dataframe\">\n",
       "  <thead>\n",
       "    <tr style=\"text-align: right;\">\n",
       "      <th></th>\n",
       "      <th>time</th>\n",
       "      <th>x</th>\n",
       "      <th>y</th>\n",
       "      <th>direction</th>\n",
       "      <th>congestion</th>\n",
       "      <th>year</th>\n",
       "      <th>month</th>\n",
       "      <th>date</th>\n",
       "      <th>hour</th>\n",
       "      <th>c_date</th>\n",
       "      <th>highway_code</th>\n",
       "    </tr>\n",
       "  </thead>\n",
       "  <tbody>\n",
       "    <tr>\n",
       "      <th>0</th>\n",
       "      <td>1991-04-01 00:00:00</td>\n",
       "      <td>0</td>\n",
       "      <td>0</td>\n",
       "      <td>EB</td>\n",
       "      <td>70</td>\n",
       "      <td>1991</td>\n",
       "      <td>4</td>\n",
       "      <td>1</td>\n",
       "      <td>0</td>\n",
       "      <td>1991-04-01</td>\n",
       "      <td>00EB</td>\n",
       "    </tr>\n",
       "    <tr>\n",
       "      <th>1</th>\n",
       "      <td>1991-04-01 00:00:00</td>\n",
       "      <td>0</td>\n",
       "      <td>0</td>\n",
       "      <td>NB</td>\n",
       "      <td>49</td>\n",
       "      <td>1991</td>\n",
       "      <td>4</td>\n",
       "      <td>1</td>\n",
       "      <td>0</td>\n",
       "      <td>1991-04-01</td>\n",
       "      <td>00NB</td>\n",
       "    </tr>\n",
       "    <tr>\n",
       "      <th>2</th>\n",
       "      <td>1991-04-01 00:00:00</td>\n",
       "      <td>0</td>\n",
       "      <td>0</td>\n",
       "      <td>SB</td>\n",
       "      <td>24</td>\n",
       "      <td>1991</td>\n",
       "      <td>4</td>\n",
       "      <td>1</td>\n",
       "      <td>0</td>\n",
       "      <td>1991-04-01</td>\n",
       "      <td>00SB</td>\n",
       "    </tr>\n",
       "    <tr>\n",
       "      <th>3</th>\n",
       "      <td>1991-04-01 00:00:00</td>\n",
       "      <td>0</td>\n",
       "      <td>1</td>\n",
       "      <td>EB</td>\n",
       "      <td>18</td>\n",
       "      <td>1991</td>\n",
       "      <td>4</td>\n",
       "      <td>1</td>\n",
       "      <td>0</td>\n",
       "      <td>1991-04-01</td>\n",
       "      <td>01EB</td>\n",
       "    </tr>\n",
       "    <tr>\n",
       "      <th>4</th>\n",
       "      <td>1991-04-01 00:00:00</td>\n",
       "      <td>0</td>\n",
       "      <td>1</td>\n",
       "      <td>NB</td>\n",
       "      <td>60</td>\n",
       "      <td>1991</td>\n",
       "      <td>4</td>\n",
       "      <td>1</td>\n",
       "      <td>0</td>\n",
       "      <td>1991-04-01</td>\n",
       "      <td>01NB</td>\n",
       "    </tr>\n",
       "  </tbody>\n",
       "</table>\n",
       "</div>"
      ],
      "text/plain": [
       "                  time  x  y direction  congestion  year  month  date  hour  \\\n",
       "0  1991-04-01 00:00:00  0  0        EB          70  1991      4     1     0   \n",
       "1  1991-04-01 00:00:00  0  0        NB          49  1991      4     1     0   \n",
       "2  1991-04-01 00:00:00  0  0        SB          24  1991      4     1     0   \n",
       "3  1991-04-01 00:00:00  0  1        EB          18  1991      4     1     0   \n",
       "4  1991-04-01 00:00:00  0  1        NB          60  1991      4     1     0   \n",
       "\n",
       "       c_date highway_code  \n",
       "0  1991-04-01         00EB  \n",
       "1  1991-04-01         00NB  \n",
       "2  1991-04-01         00SB  \n",
       "3  1991-04-01         01EB  \n",
       "4  1991-04-01         01NB  "
      ]
     },
     "execution_count": 23,
     "metadata": {},
     "output_type": "execute_result"
    }
   ],
   "source": [
    "data['highway_code']= data['x']+data['y']+data['direction']\n",
    "data.head()"
   ]
  },
  {
   "cell_type": "code",
   "execution_count": 27,
   "metadata": {},
   "outputs": [
    {
     "data": {
      "text/plain": [
       "0"
      ]
     },
     "execution_count": 27,
     "metadata": {},
     "output_type": "execute_result"
    }
   ],
   "source": [
    "data['m_a_e_n'] = pd.cut(data['hour'], bins=[4,11,17,22], labels = [0, 1,2])\n",
    "data = data.astype({'m_a_e_n':'float64'})\n",
    "data['m_a_e_n'].fillna(3, inplace=True)\n",
    "data['m_a_e_n'].isnull().sum()"
   ]
  },
  {
   "cell_type": "code",
   "execution_count": 36,
   "metadata": {},
   "outputs": [
    {
     "data": {
      "text/plain": [
       "time            1991-04-01 03:20:00\n",
       "x                                 2\n",
       "y                                 0\n",
       "direction                        NB\n",
       "congestion                       82\n",
       "year                           1991\n",
       "month                             4\n",
       "date                              1\n",
       "hour                              3\n",
       "c_date                   1991-04-01\n",
       "highway_code                   20NB\n",
       "m_a_e_n                           3\n",
       "Name: 690, dtype: object"
      ]
     },
     "execution_count": 36,
     "metadata": {},
     "output_type": "execute_result"
    }
   ],
   "source": [
    "data.iloc[690]"
   ]
  },
  {
   "cell_type": "code",
   "execution_count": 29,
   "metadata": {},
   "outputs": [
    {
     "data": {
      "text/plain": [
       "array([3, 0, 1, 2], dtype=int64)"
      ]
     },
     "execution_count": 29,
     "metadata": {},
     "output_type": "execute_result"
    }
   ],
   "source": [
    "data = data.astype({'m_a_e_n':'int64'})\n",
    "data['m_a_e_n'].unique()"
   ]
  },
  {
   "cell_type": "code",
   "execution_count": 30,
   "metadata": {},
   "outputs": [
    {
     "data": {
      "text/html": [
       "<div>\n",
       "<style scoped>\n",
       "    .dataframe tbody tr th:only-of-type {\n",
       "        vertical-align: middle;\n",
       "    }\n",
       "\n",
       "    .dataframe tbody tr th {\n",
       "        vertical-align: top;\n",
       "    }\n",
       "\n",
       "    .dataframe thead th {\n",
       "        text-align: right;\n",
       "    }\n",
       "</style>\n",
       "<table border=\"1\" class=\"dataframe\">\n",
       "  <thead>\n",
       "    <tr style=\"text-align: right;\">\n",
       "      <th></th>\n",
       "      <th>time</th>\n",
       "      <th>x</th>\n",
       "      <th>y</th>\n",
       "      <th>direction</th>\n",
       "      <th>congestion</th>\n",
       "      <th>year</th>\n",
       "      <th>month</th>\n",
       "      <th>date</th>\n",
       "      <th>hour</th>\n",
       "      <th>c_date</th>\n",
       "      <th>highway_code</th>\n",
       "      <th>m_a_e_n</th>\n",
       "    </tr>\n",
       "  </thead>\n",
       "  <tbody>\n",
       "    <tr>\n",
       "      <th>0</th>\n",
       "      <td>1991-04-01 00:00:00</td>\n",
       "      <td>0</td>\n",
       "      <td>0</td>\n",
       "      <td>EB</td>\n",
       "      <td>70</td>\n",
       "      <td>1991</td>\n",
       "      <td>4</td>\n",
       "      <td>1</td>\n",
       "      <td>0</td>\n",
       "      <td>1991-04-01</td>\n",
       "      <td>00EB</td>\n",
       "      <td>3</td>\n",
       "    </tr>\n",
       "    <tr>\n",
       "      <th>1</th>\n",
       "      <td>1991-04-01 00:00:00</td>\n",
       "      <td>0</td>\n",
       "      <td>0</td>\n",
       "      <td>NB</td>\n",
       "      <td>49</td>\n",
       "      <td>1991</td>\n",
       "      <td>4</td>\n",
       "      <td>1</td>\n",
       "      <td>0</td>\n",
       "      <td>1991-04-01</td>\n",
       "      <td>00NB</td>\n",
       "      <td>3</td>\n",
       "    </tr>\n",
       "    <tr>\n",
       "      <th>2</th>\n",
       "      <td>1991-04-01 00:00:00</td>\n",
       "      <td>0</td>\n",
       "      <td>0</td>\n",
       "      <td>SB</td>\n",
       "      <td>24</td>\n",
       "      <td>1991</td>\n",
       "      <td>4</td>\n",
       "      <td>1</td>\n",
       "      <td>0</td>\n",
       "      <td>1991-04-01</td>\n",
       "      <td>00SB</td>\n",
       "      <td>3</td>\n",
       "    </tr>\n",
       "    <tr>\n",
       "      <th>3</th>\n",
       "      <td>1991-04-01 00:00:00</td>\n",
       "      <td>0</td>\n",
       "      <td>1</td>\n",
       "      <td>EB</td>\n",
       "      <td>18</td>\n",
       "      <td>1991</td>\n",
       "      <td>4</td>\n",
       "      <td>1</td>\n",
       "      <td>0</td>\n",
       "      <td>1991-04-01</td>\n",
       "      <td>01EB</td>\n",
       "      <td>3</td>\n",
       "    </tr>\n",
       "    <tr>\n",
       "      <th>4</th>\n",
       "      <td>1991-04-01 00:00:00</td>\n",
       "      <td>0</td>\n",
       "      <td>1</td>\n",
       "      <td>NB</td>\n",
       "      <td>60</td>\n",
       "      <td>1991</td>\n",
       "      <td>4</td>\n",
       "      <td>1</td>\n",
       "      <td>0</td>\n",
       "      <td>1991-04-01</td>\n",
       "      <td>01NB</td>\n",
       "      <td>3</td>\n",
       "    </tr>\n",
       "  </tbody>\n",
       "</table>\n",
       "</div>"
      ],
      "text/plain": [
       "                  time  x  y direction  congestion  year  month  date  hour  \\\n",
       "0  1991-04-01 00:00:00  0  0        EB          70  1991      4     1     0   \n",
       "1  1991-04-01 00:00:00  0  0        NB          49  1991      4     1     0   \n",
       "2  1991-04-01 00:00:00  0  0        SB          24  1991      4     1     0   \n",
       "3  1991-04-01 00:00:00  0  1        EB          18  1991      4     1     0   \n",
       "4  1991-04-01 00:00:00  0  1        NB          60  1991      4     1     0   \n",
       "\n",
       "       c_date highway_code  m_a_e_n  \n",
       "0  1991-04-01         00EB        3  \n",
       "1  1991-04-01         00NB        3  \n",
       "2  1991-04-01         00SB        3  \n",
       "3  1991-04-01         01EB        3  \n",
       "4  1991-04-01         01NB        3  "
      ]
     },
     "execution_count": 30,
     "metadata": {},
     "output_type": "execute_result"
    }
   ],
   "source": [
    "data.head()"
   ]
  },
  {
   "cell_type": "code",
   "execution_count": null,
   "metadata": {},
   "outputs": [],
   "source": [
    "data['year'].loc[0]"
   ]
  },
  {
   "cell_type": "code",
   "execution_count": null,
   "metadata": {},
   "outputs": [],
   "source": [
    "dt_list = []\n",
    "for i,j in enumerate(data['c_date']):\n",
    "\n",
    "    day_type = datetime.date(data['year'].iloc[i],data['month'].iloc[i],data['date'].iloc[i])\n",
    "    dy = day_type.weekday()\n",
    "    dt_list.append(dy)\n",
    "\n",
    "data['is_weekday'] = dt_list\n",
    " \n",
    "  \n"
   ]
  },
  {
   "cell_type": "code",
   "execution_count": null,
   "metadata": {},
   "outputs": [],
   "source": [
    "data['is_weekday'] = pd.cut(data['is_weekday'], bins=[-1,5,7], labels = [0, 1])\n",
    "data.is_weekday.isnull().sum()"
   ]
  },
  {
   "cell_type": "code",
   "execution_count": null,
   "metadata": {},
   "outputs": [],
   "source": [
    "data.drop('time', axis=1)"
   ]
  },
  {
   "cell_type": "code",
   "execution_count": null,
   "metadata": {},
   "outputs": [],
   "source": [
    "data.isnull().sum()"
   ]
  },
  {
   "cell_type": "code",
   "execution_count": null,
   "metadata": {},
   "outputs": [],
   "source": [
    "sns.barplot(x= data.direction, y= data.congestion)"
   ]
  }
 ],
 "metadata": {
  "interpreter": {
   "hash": "6dd76bf1bda3cfcc2b9c79ebe58e8411420a10c087c30911fe701ec6ed40def1"
  },
  "kernelspec": {
   "display_name": "Python 3.8.12 ('ds22')",
   "language": "python",
   "name": "python3"
  },
  "language_info": {
   "codemirror_mode": {
    "name": "ipython",
    "version": 3
   },
   "file_extension": ".py",
   "mimetype": "text/x-python",
   "name": "python",
   "nbconvert_exporter": "python",
   "pygments_lexer": "ipython3",
   "version": "3.8.12"
  },
  "orig_nbformat": 4
 },
 "nbformat": 4,
 "nbformat_minor": 2
}
